{
 "cells": [
  {
   "cell_type": "code",
   "execution_count": null,
   "id": "f62954e6",
   "metadata": {},
   "outputs": [],
   "source": [
    "// 基本语法"
   ]
  },
  {
   "cell_type": "code",
   "execution_count": null,
   "id": "cb9ec64c",
   "metadata": {
    "tags": []
   },
   "outputs": [],
   "source": [
    "// 使用let来声明变量,进行绑定, a是不可变的\n",
    "// 此处没有指定a的类型,编译器会默认根据a的值进行推断类型,此处是i32,有符号32位整数\n",
    "let a = 10;"
   ]
  },
  {
   "cell_type": "code",
   "execution_count": null,
   "id": "3d2aec03-5148-44f4-b47f-1217bc5f82f0",
   "metadata": {
    "tags": []
   },
   "outputs": [],
   "source": []
  },
  {
   "cell_type": "code",
   "execution_count": null,
   "id": "d2f79673",
   "metadata": {},
   "outputs": [],
   "source": [
    "let b:i32 = 20;"
   ]
  },
  {
   "cell_type": "code",
   "execution_count": null,
   "id": "5da53d09",
   "metadata": {},
   "outputs": [],
   "source": [
    "let mut c = 30_i32;"
   ]
  },
  {
   "cell_type": "code",
   "execution_count": null,
   "id": "1e43eaa9",
   "metadata": {},
   "outputs": [],
   "source": [
    "c = 20;"
   ]
  },
  {
   "cell_type": "code",
   "execution_count": null,
   "id": "a63fc31e",
   "metadata": {},
   "outputs": [],
   "source": [
    "fn add(i:i32,j:i32)->i32{\n",
    "    i + j\n",
    "    // return i+j;\n",
    "}"
   ]
  },
  {
   "cell_type": "code",
   "execution_count": null,
   "id": "8afdfb4b",
   "metadata": {},
   "outputs": [],
   "source": [
    "let e= add(a,b) + add(a,c);"
   ]
  },
  {
   "cell_type": "code",
   "execution_count": null,
   "id": "9f4b824b",
   "metadata": {},
   "outputs": [],
   "source": [
    "println!(\"a+b+c+a={}\",e);"
   ]
  },
  {
   "cell_type": "code",
   "execution_count": null,
   "id": "a0d71590",
   "metadata": {},
   "outputs": [],
   "source": [
    "let (x, mut y) = (true,false);"
   ]
  },
  {
   "cell_type": "code",
   "execution_count": null,
   "id": "950c3a22",
   "metadata": {},
   "outputs": [],
   "source": [
    "x"
   ]
  },
  {
   "cell_type": "code",
   "execution_count": null,
   "id": "7e8d6166",
   "metadata": {},
   "outputs": [],
   "source": [
    "assert_eq!(y,y)"
   ]
  },
  {
   "cell_type": "code",
   "execution_count": null,
   "id": "70a46487",
   "metadata": {},
   "outputs": [],
   "source": [
    "struct People{\n",
    "    age:i32\n",
    "}"
   ]
  },
  {
   "cell_type": "code",
   "execution_count": null,
   "id": "c5f332cf",
   "metadata": {},
   "outputs": [],
   "source": [
    "let person1 = People {age:20};"
   ]
  },
  {
   "cell_type": "code",
   "execution_count": null,
   "id": "fa28643c",
   "metadata": {},
   "outputs": [],
   "source": [
    "person1.age"
   ]
  },
  {
   "cell_type": "code",
   "execution_count": null,
   "id": "20a1540b",
   "metadata": {},
   "outputs": [],
   "source": [
    "let spaces = \"   \";\n",
    "let spaces = spaces.len();"
   ]
  },
  {
   "cell_type": "code",
   "execution_count": null,
   "id": "153a5c75",
   "metadata": {},
   "outputs": [],
   "source": [
    "spaces"
   ]
  },
  {
   "cell_type": "code",
   "execution_count": null,
   "id": "f77050c1",
   "metadata": {},
   "outputs": [],
   "source": [
    "let guess = \"42\".parse::<i32>().expect(\"Not a number!\");"
   ]
  },
  {
   "cell_type": "code",
   "execution_count": null,
   "id": "3db1161a",
   "metadata": {},
   "outputs": [],
   "source": [
    "// for i in '你'..='我' {\n",
    "//     println!(\"{}\", i);\n",
    "// }"
   ]
  },
  {
   "cell_type": "code",
   "execution_count": null,
   "id": "f2c97927",
   "metadata": {},
   "outputs": [],
   "source": [
    "let a:u8 = 255;\n",
    "let b:i32 = a as i32;"
   ]
  },
  {
   "cell_type": "code",
   "execution_count": null,
   "id": "66c86f3d",
   "metadata": {},
   "outputs": [],
   "source": [
    "for i in 'a'..='z'{\n",
    "    println!(\"{}\",i)\n",
    "}"
   ]
  },
  {
   "cell_type": "code",
   "execution_count": null,
   "id": "632334bf",
   "metadata": {},
   "outputs": [],
   "source": [
    "let v: u16 = 38_u8 as u16;"
   ]
  },
  {
   "cell_type": "code",
   "execution_count": null,
   "id": "6e54d919",
   "metadata": {},
   "outputs": [],
   "source": [
    "i8::MAX"
   ]
  },
  {
   "cell_type": "code",
   "execution_count": null,
   "id": "c5ea8016",
   "metadata": {},
   "outputs": [],
   "source": [
    "u8::MAX"
   ]
  },
  {
   "cell_type": "code",
   "execution_count": null,
   "id": "09ad1ccb",
   "metadata": {},
   "outputs": [],
   "source": [
    "let v1 = 251_u32 + 8_u32;\n",
    "let v2 = i32::checked_add(251, 8).unwrap();\n",
    "println!(\"{},{}\",v1,v2);"
   ]
  },
  {
   "cell_type": "code",
   "execution_count": null,
   "id": "a83520a6",
   "metadata": {},
   "outputs": [],
   "source": [
    "let v = 1_024 + 0xff + 0o77 + 0b1111_1111;"
   ]
  },
  {
   "cell_type": "code",
   "execution_count": null,
   "id": "777b7b02",
   "metadata": {},
   "outputs": [],
   "source": [
    "v == 1597"
   ]
  },
  {
   "cell_type": "code",
   "execution_count": null,
   "id": "513d32b0",
   "metadata": {},
   "outputs": [],
   "source": [
    "let x = 1_000.000_1;"
   ]
  },
  {
   "cell_type": "code",
   "execution_count": null,
   "id": "d5400d18",
   "metadata": {},
   "outputs": [],
   "source": [
    "fn type_of<T>(_: &T) -> String {\n",
    "    format!(\"{}\", std::any::type_name::<T>())\n",
    "}"
   ]
  },
  {
   "cell_type": "code",
   "execution_count": null,
   "id": "21ad64e9",
   "metadata": {},
   "outputs": [],
   "source": [
    "type_of(&x)"
   ]
  },
  {
   "cell_type": "code",
   "execution_count": null,
   "id": "d85a0489",
   "metadata": {},
   "outputs": [],
   "source": [
    "assert!(0.1_f32+0.2_f32==0.3_f32)"
   ]
  },
  {
   "cell_type": "code",
   "execution_count": null,
   "id": "432245f9",
   "metadata": {},
   "outputs": [],
   "source": [
    "let mut sum = 0;\n",
    "for i in -3..2 {\n",
    "    sum += i\n",
    "}\n"
   ]
  },
  {
   "cell_type": "code",
   "execution_count": null,
   "id": "004859ef",
   "metadata": {},
   "outputs": [],
   "source": [
    "for c in 'a'..='z' {\n",
    "    println!(\"{} -- {}\",c as i32,c);\n",
    "}"
   ]
  },
  {
   "cell_type": "code",
   "execution_count": null,
   "id": "1bdbf2c9",
   "metadata": {},
   "outputs": [],
   "source": [
    "let mut x = 1;\n",
    "let v =  x += 2;"
   ]
  },
  {
   "cell_type": "code",
   "execution_count": null,
   "id": "41fc5e11",
   "metadata": {},
   "outputs": [],
   "source": [
    "let s1 = String::from(\"hello\");\n",
    "let s2 = s1;\n",
    "\n",
    "println!(\"{}, world!\", s1);"
   ]
  },
  {
   "cell_type": "code",
   "execution_count": null,
   "id": "251c2e4d",
   "metadata": {},
   "outputs": [],
   "source": [
    "fn takes_ownership(some_string: String) { // some_string 进入作用域\n",
    "    println!(\"{}\", some_string);\n",
    "} // 这里，some_string 移出作用域并调用 `drop` 方法。占用的内存被释放\n",
    "\n",
    "fn makes_copy(some_integer: i32) { // some_integer 进入作用域\n",
    "    println!(\"{}\", some_integer);\n",
    "} // 这里，some_integer 移出作用域。不会有特殊操"
   ]
  },
  {
   "cell_type": "code",
   "execution_count": null,
   "id": "b9ed4bb7",
   "metadata": {},
   "outputs": [],
   "source": [
    "{\n",
    "    let s = String::from(\"hello\");  // s 进入作用域\n",
    "\n",
    "    takes_ownership(s);             // s 的值移动到函数里 ...\n",
    "                                    // ... 所以到这里不再有效\n",
    "\n",
    "    let x = 5;                      // x 进入作用域\n",
    "\n",
    "    makes_copy(x);                  // x 应该移动函数里，\n",
    "                                    // 但 i32 是 Copy 的，所以在后面可继续使用 x\n",
    "    \n",
    "    \n",
    "    println!(\"{}\", s);\n",
    "} // 这里, x 先移出了作用域，然后是 s。但因为 s 的值已被移走，\n",
    "  // 所以不会有特殊操作\n",
    "\n"
   ]
  },
  {
   "cell_type": "code",
   "execution_count": null,
   "id": "e608f330",
   "metadata": {},
   "outputs": [],
   "source": [
    "let mut s = String::from(\"hello, \");\n",
    "\n",
    "let r1 = &mut s;\n",
    "let r2 = &mut s;\n",
    "println!(\"{}\",r1);"
   ]
  },
  {
   "cell_type": "code",
   "execution_count": null,
   "id": "8522fd62",
   "metadata": {
    "tags": []
   },
   "outputs": [],
   "source": [
    "type File = String;\n",
    "fn open(f:&mut File) -> bool {true}\n",
    "fn close(f:&mut File) -> bool {false}\n",
    "fn read(f:&mut File, save_to:&mut Vec<u8>) -> ! {\n",
    "    unimplemented!()\n",
    "}"
   ]
  },
  {
   "cell_type": "code",
   "execution_count": null,
   "id": "9482e29c-aa4e-4bff-ba66-99f2ba61273e",
   "metadata": {
    "tags": []
   },
   "outputs": [],
   "source": [
    "let mut f1 = File::from(\"f1.txt\");\n",
    "open(&mut f1);\n",
    "read(&mut f1, &mut vec![]);\n",
    "close(&mut f1);"
   ]
  },
  {
   "cell_type": "code",
   "execution_count": null,
   "id": "e7de0949-087e-4ee6-9c99-7905e303ff4b",
   "metadata": {
    "tags": []
   },
   "outputs": [],
   "source": [
    "{\n",
    "fn first_word(s:&String)->&str{\n",
    "    &s[..1]\n",
    "}\n",
    "let s = String::from(\"hello world\");\n",
    "let hello = first_word(&s);\n",
    "// s.clear();\n",
    "println!(\"{}\",hello)\n",
    "}\n"
   ]
  },
  {
   "cell_type": "code",
   "execution_count": null,
   "id": "e78259d4-a617-4ddf-a39a-13eb09376c24",
   "metadata": {
    "tags": []
   },
   "outputs": [],
   "source": [
    "for c in \"中国人abcd\".chars() {\n",
    "    println!(\"{}\", c);\n",
    "}\n",
    "//变量在离开作用域后，就自动释放其占用的内存"
   ]
  },
  {
   "cell_type": "code",
   "execution_count": null,
   "id": "87ff809d-e536-449a-a2a1-aa7c2b948c1d",
   "metadata": {
    "tags": []
   },
   "outputs": [],
   "source": [
    "let mut s = String::from(\"hello\");"
   ]
  },
  {
   "cell_type": "code",
   "execution_count": null,
   "id": "85fcc2b5-18de-4578-a733-539017b66363",
   "metadata": {
    "tags": []
   },
   "outputs": [],
   "source": [
    "let mut s_r = &s;"
   ]
  },
  {
   "cell_type": "code",
   "execution_count": null,
   "id": "a493a2db-7a51-47f9-a920-0385e89be589",
   "metadata": {
    "tags": []
   },
   "outputs": [],
   "source": [
    "// 普通字符串\n",
    "let normal = \"C:\\Program Files\\Rust\";\n",
    "println!(\"Normal string: {}\", normal);\n",
    "\n",
    "// 原始字符串\n",
    "let raw = r\"C:Program FilesRust\";\n",
    "println!(\"Raw string: {}\", raw);"
   ]
  },
  {
   "cell_type": "code",
   "execution_count": null,
   "id": "d5bcb29a-fb35-4dd4-a32d-b780c39e07bb",
   "metadata": {
    "tags": []
   },
   "outputs": [],
   "source": [
    "{let arr: [char; 3] = ['中', '国', '人'];\n",
    "\n",
    "let slice = &arr[..2];\n",
    "\n",
    "// 修改数字 `8` 让代码工作\n",
    "// 小提示: 切片和数组不一样，它是引用。如果是数组的话，那下面的 `assert!` 将会通过： '中'和'国'是char类型，char类型是Unicode编码，大小固定为4字节，两个字符为8字节。\n",
    "assert!(std::mem::size_of_val(&slice) == 16);\n",
    "}"
   ]
  },
  {
   "cell_type": "code",
   "execution_count": null,
   "id": "f037a707-4325-4bac-bb15-3d071527a57c",
   "metadata": {},
   "outputs": [],
   "source": [
    "#[derive(Debug)]\n",
    "struct Rectangle {\n",
    "    width: u32,\n",
    "    height: u32,\n",
    "}\n",
    "\n",
    "let rect1 = Rectangle {\n",
    "    width: 30,\n",
    "    height: 50,\n",
    "};\n",
    "\n",
    "dbg!(&rect1);"
   ]
  },
  {
   "cell_type": "code",
   "execution_count": null,
   "id": "c9993983-f210-44fc-8d6e-7421f83d0485",
   "metadata": {
    "tags": []
   },
   "outputs": [],
   "source": [
    "struct Point(i32,i32,i32);"
   ]
  },
  {
   "cell_type": "code",
   "execution_count": null,
   "id": "d7ae800b-0acb-4a7e-9f8b-6628c93b9d50",
   "metadata": {
    "tags": []
   },
   "outputs": [],
   "source": [
    "let Point(x,y,z) = Point(1,2,3);"
   ]
  },
  {
   "cell_type": "code",
   "execution_count": null,
   "id": "08d784a3-b98f-400e-b593-fcf6c04ec277",
   "metadata": {
    "tags": []
   },
   "outputs": [],
   "source": [
    "{\n",
    "#[derive(Debug)]\n",
    "struct User {\n",
    "    username: String,\n",
    "    age: i8\n",
    "}\n",
    "let user1 = User {username:\"lxb\".to_string(),age:18};\n",
    "let name = user1.username;\n",
    "dbg!(&name);\n",
    "dbg!(user1.age);\n",
    "// dbg!(user1);\n",
    "}"
   ]
  },
  {
   "cell_type": "code",
   "execution_count": null,
   "id": "d1a8321a-0bcf-4d97-af3a-e92a86f0e0ba",
   "metadata": {},
   "outputs": [],
   "source": [
    "{\n",
    "#[derive(Debug)]\n",
    "struct User{\n",
    "    username:&str,\n",
    "    age:i8\n",
    "}\n",
    "let user1 = User{username:\"lxb\",age:18};\n",
    "dbg!(user1)\n",
    "}"
   ]
  },
  {
   "cell_type": "code",
   "execution_count": null,
   "id": "0c8f633b",
   "metadata": {},
   "outputs": [],
   "source": [
    "enum PokerSuit{\n",
    "    Clubs,\n",
    "    Spades,\n",
    "    Diamondas,\n",
    "    Hearts\n",
    "}"
   ]
  },
  {
   "cell_type": "code",
   "execution_count": null,
   "id": "3fece3d8",
   "metadata": {},
   "outputs": [],
   "source": [
    "use std::mem::size_of;\n",
    "\n",
    "enum MyEnum {\n",
    "    A,\n",
    "    B(i32),\n",
    "    C(f64),\n",
    "}\n",
    "\n",
    "\n",
    "println!(\"Size of MyEnum: {} bytes\", size_of::<MyEnum>());\n",
    "println!(\"Size of i32: {} bytes\", size_of::<i32>());\n",
    "println!(\"Size of f64: {} bytes\", size_of::<f64>());\n"
   ]
  },
  {
   "cell_type": "code",
   "execution_count": null,
   "id": "f6e41073",
   "metadata": {},
   "outputs": [],
   "source": [
    "enum Data<T> {\n",
    "    Some(T),\n",
    "    None,\n",
    "}"
   ]
  },
  {
   "cell_type": "code",
   "execution_count": null,
   "id": "a7e3d2ff",
   "metadata": {},
   "outputs": [],
   "source": [
    "let integer_data: Data<i32> = Data::Some(42);"
   ]
  },
  {
   "cell_type": "code",
   "execution_count": null,
   "id": "2f93c752",
   "metadata": {},
   "outputs": [],
   "source": [
    "let o = Some(3);\n",
    "let x:i32 = 12;\n",
    "let v = if let Some(x) = o {\n",
    "    x\n",
    "} else {\n",
    "    0\n",
    "};"
   ]
  },
  {
   "cell_type": "code",
   "execution_count": null,
   "id": "8ac427b2",
   "metadata": {},
   "outputs": [],
   "source": [
    "let a = [4, 3, 2, 1];\n",
    "// `.iter()` 方法把 `a` 数组变成一个迭代器\n",
    "for (i, v) in a.iter().enumerate() {\n",
    "    println!(\"第{}个元素是{}\", i + 1, v);\n",
    "}"
   ]
  },
  {
   "cell_type": "code",
   "execution_count": null,
   "id": "11561a5b",
   "metadata": {},
   "outputs": [],
   "source": [
    "let foo = 'f';\n",
    "assert!(matches!(foo, 'A'..='Z' | 'a'..='z'));"
   ]
  },
  {
   "cell_type": "code",
   "execution_count": null,
   "id": "bba0c7a9",
   "metadata": {},
   "outputs": [],
   "source": []
  },
  {
   "cell_type": "code",
   "execution_count": null,
   "id": "ea5f163e",
   "metadata": {},
   "outputs": [],
   "source": [
    "\n",
    "// 填空\n",
    "enum Message {\n",
    "    Quit,\n",
    "    Move { x: i32, y: i32 },\n",
    "    Write(String),\n",
    "    ChangeColor(i32, i32, i32),\n",
    "}\n",
    "\n",
    "fn show_message(msg: Message) {\n",
    "    match msg {\n",
    "        Message::Move{x: a, y: b} => { // 这里匹配 Message::Move\n",
    "            assert_eq!(a, 1);\n",
    "            assert_eq!(b, 3);\n",
    "        },\n",
    "        Message::ChangeColor(_, g, b) => {\n",
    "            assert_eq!(g, 255);\n",
    "            assert_eq!(b, 0);\n",
    "        },\n",
    "        _ => println!(\"no data in these variants\")\n",
    "    }\n",
    "}\n",
    "let msgs = [\n",
    "    Message::Quit,\n",
    "    Message::Move{x:1, y:3},\n",
    "    Message::ChangeColor(255,255,0)\n",
    "];\n",
    "\n",
    "for msg in msgs {\n",
    "    show_message(msg)\n",
    "}"
   ]
  },
  {
   "cell_type": "code",
   "execution_count": null,
   "id": "90e39b35",
   "metadata": {},
   "outputs": [],
   "source": [
    "fn plus_one(x:Option<i32>) ->Option<i32>{\n",
    "    match x {\n",
    "        None => None,\n",
    "        Some(i) => Some(i+1)\n",
    "    }\n",
    "}\n",
    "\n",
    "let five = Some(5);\n",
    "let six = plus_one(five);\n",
    "dbg!(six);"
   ]
  },
  {
   "cell_type": "code",
   "execution_count": null,
   "id": "3b43547a",
   "metadata": {},
   "outputs": [],
   "source": [
    "let mut stack = Vec::new();\n",
    "stack.push(1);\n",
    "stack.push(2);\n",
    "stack.push(3);\n",
    "while let Some(i) = stack.pop() {\n",
    "    println!(\"{}\", i);\n",
    "}"
   ]
  },
  {
   "cell_type": "code",
   "execution_count": null,
   "id": "fcda5d5d",
   "metadata": {},
   "outputs": [],
   "source": [
    "let v = vec![\"a\", \"b\", \"c\"];\n",
    "for (i, e) in v.iter().enumerate() {\n",
    "    println!(\"{} is at index {}\", e, i);\n",
    "}"
   ]
  },
  {
   "cell_type": "code",
   "execution_count": null,
   "id": "3681a91f",
   "metadata": {},
   "outputs": [],
   "source": [
    "{\n",
    "    let int32_tuple = (1, 2, \"Hello\".to_string());\n",
    "    // 对于tuple来说, 其成员变量均支持copy trait, tuple才支持copy trait\n",
    "    let (a, b, c) = &int32_tuple;\n",
    "    println!(\"a: {}, b: {}, c: {}\", a, b, c);\n",
    "    dbg!(int32_tuple);\n",
    "}"
   ]
  },
  {
   "cell_type": "code",
   "execution_count": null,
   "id": "9f8ac6ed",
   "metadata": {},
   "outputs": [],
   "source": [
    "let x = 5;\n",
    "match x {\n",
    "    1..=5 => println!(\"one through five\"),\n",
    "    _ => println!(\"anything\"),\n",
    "}"
   ]
  },
  {
   "cell_type": "code",
   "execution_count": null,
   "id": "57c907fb",
   "metadata": {},
   "outputs": [],
   "source": [
    "struct Point{\n",
    "    x: i32,\n",
    "    y: i32,\n",
    "}\n",
    "\n",
    "let p = Point {x:0, y:7};\n",
    "let Point {x, y} = p;\n",
    "assert_eq!(x, 0);\n",
    "assert_eq!(y, 7);"
   ]
  },
  {
   "cell_type": "code",
   "execution_count": null,
   "metadata": {},
   "outputs": [],
   "source": [
    "enum Message {\n",
    "    Hello { id: i32 },\n",
    "}\n",
    "\n",
    "let msg = Message::Hello { id: 5 };\n",
    "\n",
    "match msg {\n",
    "    Message::Hello { id: id_variable @ 3..=7 } => {\n",
    "        println!(\"Found an id in range: {} {}\", id_variable)\n",
    "    },\n",
    "    Message::Hello { id: 10..=12 } => {\n",
    "        println!(\"Found an id in another range\")\n",
    "    },\n",
    "    Message::Hello { id } => {\n",
    "        println!(\"Found some other id: {}\", id)\n",
    "    },\n",
    "}\n"
   ]
  },
  {
   "cell_type": "code",
   "execution_count": null,
   "id": "1e59ad19",
   "metadata": {},
   "outputs": [],
   "source": [
    "let numbers = (2, 4, 8, 16, 32, 64, 128, 256, 512, 1024, 2048);\n",
    "\n",
    "match numbers {\n",
    "    (first,..,last) => {\n",
    "        assert_eq!(first, 2);\n",
    "        assert_eq!(last, 2048);\n",
    "    }\n",
    "}"
   ]
  },
  {
   "cell_type": "code",
   "execution_count": null,
   "id": "79aaee99",
   "metadata": {},
   "outputs": [],
   "source": [
    "let mut v = String::from(\"hello,\");\n",
    "let r = &mut v;\n",
    "\n",
    "match r {\n",
    "    value => value.push_str(\" world!\") \n",
    "}"
   ]
  },
  {
   "cell_type": "code",
   "execution_count": null,
   "id": "2074218d",
   "metadata": {},
   "outputs": [],
   "source": [
    "pub struct Rectangle {\n",
    "    width: u32,\n",
    "    height: u32,\n",
    "}\n",
    "\n",
    "impl Rectangle{\n",
    "    pub fn new(width: u32, height: u32) -> Self {\n",
    "        Self {width, height}\n",
    "    }\n",
    "    pub fn width(&self) -> u32 {\n",
    "        self.width\n",
    "    }\n",
    "}\n",
    "\n",
    "let rect = Rectangle::new(30, 50);\n",
    "assert_eq!(rect.width(), 30);"
   ]
  },
  {
   "cell_type": "code",
   "execution_count": null,
   "id": "ec468b55",
   "metadata": {},
   "outputs": [],
   "source": [
    "\n",
    "#[derive(Debug)]\n",
    "enum TrafficLightColor {\n",
    "    Red,\n",
    "    Yellow,\n",
    "    Green,\n",
    "}\n",
    "\n",
    "// 为 TrafficLightColor 实现所需的方法\n",
    "impl TrafficLightColor {\n",
    "    fn color(&self) -> String {\n",
    "        match self {\n",
    "            Self::Red => \"red\".to_string(),\n",
    "            Self::Yellow => \"yellow\".to_string(),\n",
    "            Self::Green => \"green\".to_string()\n",
    "        }\n",
    "    }\n",
    "}\n",
    "\n",
    "let c = TrafficLightColor::Yellow;\n",
    "\n",
    "assert_eq!(c.color(), \"yellow\");\n",
    "\n",
    "println!(\"{:?}\",c);"
   ]
  },
  {
   "cell_type": "code",
   "execution_count": null,
   "id": "244c3a3a",
   "metadata": {},
   "outputs": [],
   "source": [
    "#[derive(Debug)]\n",
    "struct Point<T,U>{\n",
    "    x: T,\n",
    "    y: U,\n",
    "}\n",
    "impl<T,U> Point<T,U>{\n",
    "    fn mixup<V,W>(self, other: Point<V,W>) -> Point<T,W> {\n",
    "        Point {\n",
    "            x: self.x,\n",
    "            y: other.y,\n",
    "        }\n",
    "    }\n",
    "}\n",
    "let p1 = Point {x:5, y:10.4};\n",
    "let p2 = Point {x:\"hello\", y:'c'};\n",
    "let p3 = p1.mixup(p2);\n",
    "dbg!(p3)\n"
   ]
  },
  {
   "cell_type": "code",
   "execution_count": null,
   "id": "9898133c",
   "metadata": {},
   "outputs": [],
   "source": [
    "\n",
    "struct Point<T> {\n",
    "    x: T,\n",
    "    y: T,\n",
    "}\n",
    "\n",
    "impl Point<f32> {\n",
    "    fn distance_from_origin(&self) -> f32 {\n",
    "        (self.x.powi(2) + self.y.powi(2)).sqrt()\n",
    "    }\n",
    "}\n",
    "\n",
    "let p = Point{x: 5.0_f32, y: 10.0_f32};\n",
    "println!(\"{}\",p.distance_from_origin())\n"
   ]
  },
  {
   "cell_type": "code",
   "execution_count": null,
   "id": "fa35a0fc",
   "metadata": {},
   "outputs": [],
   "source": [
    "\n",
    "#[derive(Debug)]\n",
    "struct Array<T, const N: usize> {\n",
    "    data : [T; N]\n",
    "}\n",
    "\n",
    "let (a, b, c) = (\n",
    "    Array{\n",
    "        data: [1, 2, 3],\n",
    "    },\n",
    "    Array {\n",
    "        data: [1.0, 2.0, 3.0],\n",
    "    },\n",
    "    Array {\n",
    "        data: [1, 2]\n",
    "    }\n",
    ");\n",
    "dbg!(a);"
   ]
  },
  {
   "cell_type": "code",
   "execution_count": null,
   "id": "3846c25b",
   "metadata": {},
   "outputs": [],
   "source": [
    "#![feature(generic_const_exprs)]\n",
    "fn check_size<T>(val: T)\n",
    "where\n",
    "    Assert<{ core::mem::size_of::<T>() < 768 }>: IsTrue,\n",
    "{\n",
    "    //...\n",
    "}\n",
    "pub enum Assert<const CHECK: bool> {}\n",
    "\n",
    "pub trait IsTrue {}\n",
    "\n",
    "impl IsTrue for Assert<true> {}\n",
    "\n",
    "// check_size([0u8; 767]); \n",
    "// check_size([0i32; 191]);\n",
    "check_size([\"hello你好\"; 17]); // size of &str ?\n",
    "// check_size([(); 31].map(|_| \"hello你好\".to_string()));  // size of String?\n",
    "// check_size(['中'; 191]); // size of char ?"
   ]
  },
  {
   "cell_type": "code",
   "execution_count": null,
   "id": "11d1e133",
   "metadata": {},
   "outputs": [],
   "source": [
    "#[derive(Debug)]\n",
    "struct Point<T> {\n",
    "    x: T,\n",
    "    y: T,\n",
    "}\n",
    "\n",
    "let p = Point{x: 5, y: 10};\n",
    "println!(\"{:?}\",p);"
   ]
  },
  {
   "cell_type": "code",
   "execution_count": null,
   "id": "153ff896",
   "metadata": {},
   "outputs": [],
   "source": [
    "#[allow(dead_code)]\n",
    "\n",
    "use std::fmt;\n",
    "use std::fmt::{Display};\n",
    "\n",
    "#[derive(Debug,PartialEq)]\n",
    "enum FileState{\n",
    "    Open,\n",
    "    Closed,\n",
    "}\n",
    "#[derive(Debug)]\n",
    "struct File{\n",
    "    name: String,\n",
    "    data: Vec<u8>,\n",
    "    state: FileState,\n",
    "}\n",
    "impl Display for FileState{\n",
    "    fn fmt(&self, f: &mut fmt::Formatter) -> fmt::Result{\n",
    "        match *self {\n",
    "            FileState::Open => write!(f, \"Open\"),\n",
    "            FileState::Closed => write!(f, \"Closed\"),\n",
    "        }\n",
    "    }\n",
    "}\n",
    "\n",
    "impl Display for File{\n",
    "    fn fmt(&self, f: &mut fmt::Formatter) -> fmt::Result{\n",
    "        write!(f, \"File (name: {}, state: {}, data: {:?})\", self.name, self.state, self.data)\n",
    "    }\n",
    "}\n",
    "\n",
    "impl File {\n",
    "    fn new(name: &str) -> File {\n",
    "        File {\n",
    "            name: String::from(name),\n",
    "            data: Vec::new(),\n",
    "            state: FileState::Closed,\n",
    "        }\n",
    "    }\n",
    "}\n",
    "\n",
    "let f6 = File::new(\"6.txt\");\n",
    "println!(\"{}\", f6);\n",
    "println!(\"{:?}\", f6);\n"
   ]
  },
  {
   "cell_type": "code",
   "execution_count": null,
   "id": "7708d199",
   "metadata": {},
   "outputs": [],
   "source": [
    "#[derive(Debug)]\n",
    "struct Duck;"
   ]
  },
  {
   "cell_type": "code",
   "execution_count": null,
   "id": "c596c801",
   "metadata": {},
   "outputs": [],
   "source": [
    "let a = Duck {};"
   ]
  },
  {
   "cell_type": "code",
   "execution_count": null,
   "id": "39d56c01",
   "metadata": {},
   "outputs": [],
   "source": [
    "dbg!(a);"
   ]
  },
  {
   "cell_type": "code",
   "execution_count": null,
   "id": "ecd3655d",
   "metadata": {},
   "outputs": [],
   "source": [
    "struct Container(i32, i32);\n",
    "\n",
    "// 使用关联类型实现重新实现以下特征\n",
    "// trait Contains {\n",
    "//    type A;\n",
    "//    type B;\n",
    "\n",
    "// trait Contains<A, B> {\n",
    "//     fn contains(&self, _: &A, _: &B) -> bool;\n",
    "//     fn first(&self) -> i32;\n",
    "//     fn last(&self) -> i32;\n",
    "// }\n",
    "\n",
    "trait Container {\n",
    "    type A;\n",
    "    type B;\n",
    "    fn contains(&self, _: &Self::A, _: &Self::B) -> bool;\n",
    "    fn first(&self) -> i32;\n",
    "    fn last(&self) -> i32;\n",
    "}\n",
    "\n",
    "impl Contains for Container {\n",
    "    type A = i32;\n",
    "    type B = i32;\n",
    "    fn contains(&self, number_1: &i32, number_2: &i32) -> bool {\n",
    "        (&self.0 == number_1) && (&self.1 == number_2)\n",
    "    }\n",
    "    // Grab the first number.\n",
    "    fn first(&self) -> i32 { self.0 }\n",
    "\n",
    "    // Grab the last number.\n",
    "    fn last(&self) -> i32 { self.1 }\n",
    "}\n",
    "\n",
    "fn difference<C: Contains>(container: &C) -> i32 {\n",
    "    container.last() - container.first()\n",
    "}"
   ]
  },
  {
   "cell_type": "code",
   "execution_count": null,
   "id": "6b1585b8",
   "metadata": {},
   "outputs": [],
   "source": [
    "#[derive(Debug)]\n",
    "enum IpAddr {\n",
    "    V4(u8, u8, u8, u8),\n",
    "    V6(String),\n",
    "}\n",
    "let v = vec![\n",
    "    IpAddr::V4(127, 0, 0, 1),\n",
    "    IpAddr::V6(String::from(\"::1\")),\n",
    "];\n",
    "dbg!(v);"
   ]
  },
  {
   "cell_type": "code",
   "execution_count": null,
   "id": "fdc3bd44",
   "metadata": {},
   "outputs": [],
   "source": [
    "use std::fmt::Debug;\n",
    "trait IpAddr:Debug {\n",
    "    fn display(&self) -> String;\n",
    "}\n",
    "\n",
    "#[derive(Debug)]\n",
    "struct V4(String);\n",
    "\n",
    "#[derive(Debug)]\n",
    "struct V6(String);\n",
    "\n",
    "impl IpAddr for V4 {\n",
    "    fn display(&self) -> String {\n",
    "        format!(\"V4: {}\", self.0)\n",
    "    }\n",
    "}\n",
    "\n",
    "impl IpAddr for V6 {\n",
    "    fn display(&self) -> String {\n",
    "        format!(\"V6: {}\", self.0)\n",
    "    }\n",
    "}\n",
    "\n",
    "let v: Vec<Box<dyn IpAddr>> = vec![\n",
    "    Box::new(V4(String::from(\"127.0.0.1\"))),\n",
    "    Box::new(V6(String::from(\"::1\"))),\n",
    "];\n",
    "dbg!(v);\n"
   ]
  },
  {
   "cell_type": "code",
   "execution_count": null,
   "id": "d355d0dd",
   "metadata": {},
   "outputs": [],
   "source": [
    "let v = vec!(1, 2, 3);"
   ]
  },
  {
   "cell_type": "code",
   "execution_count": null,
   "id": "422ae94e",
   "metadata": {},
   "outputs": [],
   "source": [
    "v"
   ]
  },
  {
   "cell_type": "code",
   "execution_count": null,
   "id": "9281bc01",
   "metadata": {},
   "outputs": [],
   "source": [
    "let v = vec![1, 2, 3];\n",
    "for i in v {\n",
    "    println!(\"{}\",i);\n",
    "}\n",
    "// dbg!(v);"
   ]
  },
  {
   "cell_type": "code",
   "execution_count": null,
   "id": "bc58803b",
   "metadata": {},
   "outputs": [],
   "source": [
    "{let mut v = vec![1, 2, 3];\n",
    "\n",
    "let slice1 = &v[..];\n",
    "// 越界访问将导致 panic.\n",
    "// 修改时必须使用 `v.len`\n",
    "let slice2 = &v[0..v.len()];\n",
    "assert_eq!(slice1, slice2);\n",
    "}"
   ]
  },
  {
   "cell_type": "code",
   "execution_count": null,
   "id": "ca86feb6",
   "metadata": {},
   "outputs": [],
   "source": [
    "{\n",
    "    let mut v = vec![1, 2, 3];\n",
    "// 切片是只读的\n",
    "// 注意：切片和 `&Vec` 是不同的类型，后者仅仅是 `Vec` 的引用，并可以通过解引用直接获取 `Vec`\n",
    "let vec_ref: &mut Vec<i32> = &mut v;\n",
    "(*vec_ref).push(4);\n",
    "let slice3 = &mut v[0..4];\n",
    "// slice3.push(4);\n",
    "slice3[3] = 42;\n",
    "assert_eq!(slice3, &[1, 2, 3, 4]);\n",
    "}"
   ]
  },
  {
   "cell_type": "code",
   "execution_count": null,
   "id": "eedfc3e8",
   "metadata": {},
   "outputs": [],
   "source": [
    "use std::collections::HashMap;\n",
    "\n",
    "let teams_list = vec![\n",
    "    (\"中国队\".to_string(), 100),\n",
    "    (\"美国队\".to_string(), 10),\n",
    "    (\"日本队\".to_string(), 50),\n",
    "];\n",
    "teams_list.get(0)\n",
    "// let teams_map: HashMap<_,_> = teams_list.into_iter().collect();\n",
    "\n",
    "// println!(\"{:?}\",teams_map)"
   ]
  },
  {
   "cell_type": "code",
   "execution_count": null,
   "id": "5708df82",
   "metadata": {},
   "outputs": [],
   "source": [
    "teams_list.get(0)"
   ]
  },
  {
   "cell_type": "code",
   "execution_count": null,
   "id": "e3f4fa52",
   "metadata": {},
   "outputs": [],
   "source": [
    "{\n",
    "use std::collections::HashMap;\n",
    "\n",
    "let mut scores = HashMap::new();\n",
    "\n",
    "scores.insert(String::from(\"Blue\"), 10);\n",
    "scores.insert(String::from(\"Yellow\"), 50);\n",
    "\n",
    "let team_name = String::from(\"Blue\");\n",
    "// let score: Option<&i32> = scores.get(&team_name);\n",
    "let score: i32 = scores.get(&team_name).copied().unwrap_or(0);\n",
    "}"
   ]
  },
  {
   "cell_type": "code",
   "execution_count": null,
   "id": "b7c66ba0",
   "metadata": {},
   "outputs": [],
   "source": [
    "{\n",
    "    let x = 5;\n",
    "    let r = &x;\n",
    "    println!(\"r: {}\", r);\n",
    "}"
   ]
  },
  {
   "cell_type": "code",
   "execution_count": null,
   "id": "72893bfc",
   "metadata": {},
   "outputs": [],
   "source": [
    "\n",
    "fn longest<'a>(x: 'a String, y: 'a String) -> &'a str\n",
    "{\n",
    "    if x.len() > y.len() {\n",
    "        x\n",
    "    } else {\n",
    "        y\n",
    "    }\n",
    "}"
   ]
  },
  {
   "cell_type": "code",
   "execution_count": null,
   "id": "82a523f5",
   "metadata": {},
   "outputs": [],
   "source": [
    "{\n",
    "let string1 = String::from(\"long string is long\");\n",
    "let result;\n",
    "{\n",
    "let string2 = String::from(\"xyz\");\n",
    "result = longest(string1, string2.);\n",
    "}\n",
    "println!(\"The longest string is {}\", result);\n",
    "}"
   ]
  },
  {
   "cell_type": "code",
   "execution_count": null,
   "id": "91ff58c7",
   "metadata": {},
   "outputs": [],
   "source": [
    "panic!(\"crash and burn\");"
   ]
  },
  {
   "cell_type": "code",
   "execution_count": null,
   "id": "166bc522",
   "metadata": {},
   "outputs": [],
   "source": [
    "// panic!(\"crash and burn\");"
   ]
  },
  {
   "cell_type": "code",
   "execution_count": null,
   "id": "85212f9f",
   "metadata": {},
   "outputs": [],
   "source": [
    "let v = vec![1, 2, 3];\n",
    "\n",
    "v[99];"
   ]
  },
  {
   "cell_type": "code",
   "execution_count": null,
   "id": "7879e261",
   "metadata": {},
   "outputs": [],
   "source": [
    "fn first(arr: &[i32]) -> Option<&i32> {\n",
    "   let v = arr.get(0)?;\n",
    "   Some(v)\n",
    "}"
   ]
  },
  {
   "cell_type": "code",
   "execution_count": null,
   "id": "4f584a82",
   "metadata": {},
   "outputs": [],
   "source": []
  }
 ],
 "metadata": {
  "kernelspec": {
   "display_name": "Rust",
   "language": "rust",
   "name": "rust"
  },
  "language_info": {
   "codemirror_mode": "rust",
   "file_extension": ".rs",
   "mimetype": "text/rust",
   "name": "rust",
   "pygment_lexer": "rust",
   "version": ""
  }
 },
 "nbformat": 4,
 "nbformat_minor": 5
}

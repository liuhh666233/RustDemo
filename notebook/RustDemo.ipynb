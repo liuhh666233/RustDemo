{
 "cells": [
  {
   "cell_type": "code",
   "execution_count": null,
   "id": "f62954e6",
   "metadata": {},
   "outputs": [],
   "source": [
    "// 基本语法"
   ]
  },
  {
   "cell_type": "code",
   "execution_count": null,
   "id": "cb9ec64c",
   "metadata": {},
   "outputs": [],
   "source": [
    "// 使用let来声明变量,进行绑定, a是不可变的\n",
    "// 此处没有指定a的类型,编译器会默认根据a的值进行推断类型,此处是i32,有符号32位整数\n",
    "let a = 10;"
   ]
  },
  {
   "cell_type": "code",
   "execution_count": null,
   "id": "d2f79673",
   "metadata": {},
   "outputs": [],
   "source": [
    "let b:i32 = 20;"
   ]
  },
  {
   "cell_type": "code",
   "execution_count": null,
   "id": "5da53d09",
   "metadata": {},
   "outputs": [],
   "source": [
    "let mut c = 30_i32;"
   ]
  },
  {
   "cell_type": "code",
   "execution_count": null,
   "id": "1e43eaa9",
   "metadata": {},
   "outputs": [],
   "source": [
    "c = 20;"
   ]
  },
  {
   "cell_type": "code",
   "execution_count": null,
   "id": "a63fc31e",
   "metadata": {},
   "outputs": [],
   "source": [
    "fn add(i:i32,j:i32)->i32{\n",
    "    i + j\n",
    "    // return i+j;\n",
    "}"
   ]
  },
  {
   "cell_type": "code",
   "execution_count": null,
   "id": "8afdfb4b",
   "metadata": {},
   "outputs": [],
   "source": [
    "let e= add(a,b) + add(a,c);"
   ]
  },
  {
   "cell_type": "code",
   "execution_count": null,
   "id": "9f4b824b",
   "metadata": {},
   "outputs": [],
   "source": [
    "println!(\"a+b+c+a={}\",e);"
   ]
  },
  {
   "cell_type": "code",
   "execution_count": null,
   "id": "a0d71590",
   "metadata": {},
   "outputs": [],
   "source": [
    "let (x, mut y) = (true,false);"
   ]
  },
  {
   "cell_type": "code",
   "execution_count": null,
   "id": "950c3a22",
   "metadata": {},
   "outputs": [],
   "source": [
    "x"
   ]
  },
  {
   "cell_type": "code",
   "execution_count": null,
   "id": "7e8d6166",
   "metadata": {},
   "outputs": [],
   "source": [
    "assert_eq!(y,y)"
   ]
  },
  {
   "cell_type": "code",
   "execution_count": null,
   "id": "70a46487",
   "metadata": {},
   "outputs": [],
   "source": [
    "struct People{\n",
    "    age:i32\n",
    "}"
   ]
  },
  {
   "cell_type": "code",
   "execution_count": null,
   "id": "c5f332cf",
   "metadata": {},
   "outputs": [],
   "source": [
    "let person1 = People {age:20};"
   ]
  },
  {
   "cell_type": "code",
   "execution_count": null,
   "id": "fa28643c",
   "metadata": {},
   "outputs": [],
   "source": [
    "person1.age"
   ]
  },
  {
   "cell_type": "code",
   "execution_count": null,
   "id": "20a1540b",
   "metadata": {},
   "outputs": [],
   "source": [
    "let spaces = \"   \";\n",
    "let spaces = spaces.len();"
   ]
  },
  {
   "cell_type": "code",
   "execution_count": null,
   "id": "153a5c75",
   "metadata": {},
   "outputs": [],
   "source": [
    "spaces"
   ]
  },
  {
   "cell_type": "code",
   "execution_count": null,
   "id": "f77050c1",
   "metadata": {},
   "outputs": [],
   "source": [
    "let guess = \"42\".parse::<i32>().expect(\"Not a number!\");"
   ]
  },
  {
   "cell_type": "code",
   "execution_count": null,
   "id": "3db1161a",
   "metadata": {},
   "outputs": [],
   "source": [
    "// for i in '你'..='我' {\n",
    "//     println!(\"{}\", i);\n",
    "// }"
   ]
  },
  {
   "cell_type": "code",
   "execution_count": null,
   "id": "f2c97927",
   "metadata": {},
   "outputs": [],
   "source": [
    "let a:u8 = 255;\n",
    "let b:i32 = a as i32;"
   ]
  },
  {
   "cell_type": "code",
   "execution_count": null,
   "id": "66c86f3d",
   "metadata": {},
   "outputs": [],
   "source": [
    "for i in 'a'..='z'{\n",
    "    println!(\"{}\",i)\n",
    "}"
   ]
  },
  {
   "cell_type": "code",
   "execution_count": null,
   "id": "632334bf",
   "metadata": {},
   "outputs": [],
   "source": [
    "let v: u16 = 38_u8 as u16;"
   ]
  },
  {
   "cell_type": "code",
   "execution_count": null,
   "id": "6e54d919",
   "metadata": {},
   "outputs": [],
   "source": [
    "i8::MAX"
   ]
  },
  {
   "cell_type": "code",
   "execution_count": null,
   "id": "c5ea8016",
   "metadata": {},
   "outputs": [],
   "source": [
    "u8::MAX"
   ]
  },
  {
   "cell_type": "code",
   "execution_count": null,
   "id": "09ad1ccb",
   "metadata": {},
   "outputs": [],
   "source": [
    "let v1 = 251_u32 + 8_u32;\n",
    "let v2 = i32::checked_add(251, 8).unwrap();\n",
    "println!(\"{},{}\",v1,v2);"
   ]
  },
  {
   "cell_type": "code",
   "execution_count": null,
   "id": "a83520a6",
   "metadata": {},
   "outputs": [],
   "source": [
    "let v = 1_024 + 0xff + 0o77 + 0b1111_1111;"
   ]
  },
  {
   "cell_type": "code",
   "execution_count": null,
   "id": "777b7b02",
   "metadata": {},
   "outputs": [],
   "source": [
    "v == 1597"
   ]
  },
  {
   "cell_type": "code",
   "execution_count": null,
   "id": "513d32b0",
   "metadata": {},
   "outputs": [],
   "source": [
    "let x = 1_000.000_1;"
   ]
  },
  {
   "cell_type": "code",
   "execution_count": null,
   "id": "d5400d18",
   "metadata": {},
   "outputs": [],
   "source": [
    "fn type_of<T>(_: &T) -> String {\n",
    "    format!(\"{}\", std::any::type_name::<T>())\n",
    "}"
   ]
  },
  {
   "cell_type": "code",
   "execution_count": null,
   "id": "21ad64e9",
   "metadata": {},
   "outputs": [],
   "source": [
    "type_of(&x)"
   ]
  },
  {
   "cell_type": "code",
   "execution_count": null,
   "id": "d85a0489",
   "metadata": {},
   "outputs": [],
   "source": [
    "assert!(0.1_f32+0.2_f32==0.3_f32)"
   ]
  },
  {
   "cell_type": "code",
   "execution_count": null,
   "id": "432245f9",
   "metadata": {},
   "outputs": [],
   "source": [
    "let mut sum = 0;\n",
    "for i in -3..2 {\n",
    "    sum += i\n",
    "}\n"
   ]
  },
  {
   "cell_type": "code",
   "execution_count": null,
   "id": "004859ef",
   "metadata": {},
   "outputs": [],
   "source": [
    "for c in 'a'..='z' {\n",
    "    println!(\"{} -- {}\",c as i32,c);\n",
    "}"
   ]
  },
  {
   "cell_type": "code",
   "execution_count": null,
   "id": "1bdbf2c9",
   "metadata": {},
   "outputs": [],
   "source": [
    "let mut x = 1;\n",
    "let v =  x += 2;"
   ]
  },
  {
   "cell_type": "code",
   "execution_count": null,
   "id": "41fc5e11",
   "metadata": {},
   "outputs": [],
   "source": [
    "let s1 = String::from(\"hello\");\n",
    "let s2 = s1;\n",
    "\n",
    "println!(\"{}, world!\", s1);"
   ]
  },
  {
   "cell_type": "code",
   "execution_count": null,
   "id": "251c2e4d",
   "metadata": {},
   "outputs": [],
   "source": [
    "fn takes_ownership(some_string: String) { // some_string 进入作用域\n",
    "    println!(\"{}\", some_string);\n",
    "} // 这里，some_string 移出作用域并调用 `drop` 方法。占用的内存被释放\n",
    "\n",
    "fn makes_copy(some_integer: i32) { // some_integer 进入作用域\n",
    "    println!(\"{}\", some_integer);\n",
    "} // 这里，some_integer 移出作用域。不会有特殊操"
   ]
  },
  {
   "cell_type": "code",
   "execution_count": null,
   "id": "b9ed4bb7",
   "metadata": {},
   "outputs": [],
   "source": [
    "{\n",
    "    let s = String::from(\"hello\");  // s 进入作用域\n",
    "\n",
    "    takes_ownership(s);             // s 的值移动到函数里 ...\n",
    "                                    // ... 所以到这里不再有效\n",
    "\n",
    "    let x = 5;                      // x 进入作用域\n",
    "\n",
    "    makes_copy(x);                  // x 应该移动函数里，\n",
    "                                    // 但 i32 是 Copy 的，所以在后面可继续使用 x\n",
    "    \n",
    "    \n",
    "    println!(\"{}\", s);\n",
    "} // 这里, x 先移出了作用域，然后是 s。但因为 s 的值已被移走，\n",
    "  // 所以不会有特殊操作\n",
    "\n"
   ]
  },
  {
   "cell_type": "code",
   "execution_count": null,
   "id": "e608f330",
   "metadata": {},
   "outputs": [],
   "source": [
    "let mut s = String::from(\"hello, \");\n",
    "\n",
    "let r1 = &mut s;\n",
    "let r2 = &mut s;\n",
    "println!(\"{}\",r1);"
   ]
  },
  {
   "cell_type": "code",
   "execution_count": null,
   "id": "8522fd62",
   "metadata": {},
   "outputs": [],
   "source": []
  }
 ],
 "metadata": {
  "kernelspec": {
   "display_name": "Rust",
   "language": "rust",
   "name": "rust"
  },
  "language_info": {
   "codemirror_mode": "rust",
   "file_extension": ".rs",
   "mimetype": "text/rust",
   "name": "Rust",
   "pygment_lexer": "rust",
   "version": ""
  }
 },
 "nbformat": 4,
 "nbformat_minor": 5
}
